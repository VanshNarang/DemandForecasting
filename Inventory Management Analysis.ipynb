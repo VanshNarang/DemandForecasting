{
 "cells": [
  {
   "cell_type": "markdown",
   "metadata": {},
   "source": [
    "# Importing the necessary libraries"
   ]
  },
  {
   "cell_type": "code",
   "execution_count": 1,
   "metadata": {},
   "outputs": [],
   "source": [
    "import pandas as pd\n",
    "import datetime"
   ]
  },
  {
   "cell_type": "markdown",
   "metadata": {},
   "source": [
    "## Reading the data"
   ]
  },
  {
   "cell_type": "code",
   "execution_count": 2,
   "metadata": {},
   "outputs": [
    {
     "data": {
      "text/html": [
       "<div>\n",
       "<style scoped>\n",
       "    .dataframe tbody tr th:only-of-type {\n",
       "        vertical-align: middle;\n",
       "    }\n",
       "\n",
       "    .dataframe tbody tr th {\n",
       "        vertical-align: top;\n",
       "    }\n",
       "\n",
       "    .dataframe thead th {\n",
       "        text-align: right;\n",
       "    }\n",
       "</style>\n",
       "<table border=\"1\" class=\"dataframe\">\n",
       "  <thead>\n",
       "    <tr style=\"text-align: right;\">\n",
       "      <th></th>\n",
       "      <th>Sale Order Code</th>\n",
       "      <th>Facility</th>\n",
       "      <th>Channel Name</th>\n",
       "      <th>SKU Name</th>\n",
       "      <th>Uniware SKU Code</th>\n",
       "      <th>Seller SKU Code</th>\n",
       "      <th>MRP</th>\n",
       "      <th>Total Price</th>\n",
       "      <th>Selling Price</th>\n",
       "      <th>Order Date</th>\n",
       "      <th>...</th>\n",
       "      <th>CGST Rate</th>\n",
       "      <th>IGST Rate</th>\n",
       "      <th>SGST Rate</th>\n",
       "      <th>UTGST Rate</th>\n",
       "      <th>CESS Rate</th>\n",
       "      <th>Tax %</th>\n",
       "      <th>Tax Value</th>\n",
       "      <th>Voucher Code</th>\n",
       "      <th>Discount</th>\n",
       "      <th>Shipping Charges</th>\n",
       "    </tr>\n",
       "  </thead>\n",
       "  <tbody>\n",
       "    <tr>\n",
       "      <th>0</th>\n",
       "      <td>SLP2305749392</td>\n",
       "      <td>dazzlecollectionz</td>\n",
       "      <td>SNAPDEAL_PRITA</td>\n",
       "      <td>Pritas Raani Haar</td>\n",
       "      <td>DC-NL-10187</td>\n",
       "      <td>DC-NL-10187</td>\n",
       "      <td>2000.0</td>\n",
       "      <td>629.0</td>\n",
       "      <td>629.0</td>\n",
       "      <td>2019-06-01 00:01:00</td>\n",
       "      <td>...</td>\n",
       "      <td>0.0</td>\n",
       "      <td>3.0</td>\n",
       "      <td>0.0</td>\n",
       "      <td>0.0</td>\n",
       "      <td>0.0</td>\n",
       "      <td>NaN</td>\n",
       "      <td>NaN</td>\n",
       "      <td>NaN</td>\n",
       "      <td>0.0</td>\n",
       "      <td>0</td>\n",
       "    </tr>\n",
       "    <tr>\n",
       "      <th>1</th>\n",
       "      <td>11600000000000000</td>\n",
       "      <td>FLIPKART_LITE</td>\n",
       "      <td>FLIPKART_LITE</td>\n",
       "      <td>Bahubali earrings</td>\n",
       "      <td>EAR-PR-50008</td>\n",
       "      <td>DC--EAR-50169</td>\n",
       "      <td>1400.0</td>\n",
       "      <td>469.0</td>\n",
       "      <td>429.0</td>\n",
       "      <td>2019-06-01 00:30:00</td>\n",
       "      <td>...</td>\n",
       "      <td>0.0</td>\n",
       "      <td>3.0</td>\n",
       "      <td>0.0</td>\n",
       "      <td>0.0</td>\n",
       "      <td>0.0</td>\n",
       "      <td>NaN</td>\n",
       "      <td>NaN</td>\n",
       "      <td>NaN</td>\n",
       "      <td>40.0</td>\n",
       "      <td>40</td>\n",
       "    </tr>\n",
       "    <tr>\n",
       "      <th>2</th>\n",
       "      <td>11600000000000000</td>\n",
       "      <td>FLIPKART_LITE</td>\n",
       "      <td>FLIPKART_LITE</td>\n",
       "      <td>Bahubali earrings</td>\n",
       "      <td>EAR-PR-50008</td>\n",
       "      <td>DC--EAR-50169</td>\n",
       "      <td>1400.0</td>\n",
       "      <td>469.0</td>\n",
       "      <td>429.0</td>\n",
       "      <td>2019-06-01 00:30:00</td>\n",
       "      <td>...</td>\n",
       "      <td>0.0</td>\n",
       "      <td>3.0</td>\n",
       "      <td>0.0</td>\n",
       "      <td>0.0</td>\n",
       "      <td>0.0</td>\n",
       "      <td>NaN</td>\n",
       "      <td>NaN</td>\n",
       "      <td>NaN</td>\n",
       "      <td>40.0</td>\n",
       "      <td>40</td>\n",
       "    </tr>\n",
       "    <tr>\n",
       "      <th>3</th>\n",
       "      <td>11600000000000000</td>\n",
       "      <td>FLIPKART_LITE</td>\n",
       "      <td>FLIPKART_LITE</td>\n",
       "      <td>Priyaasi's Partywear Kundan Single Finger Hath...</td>\n",
       "      <td>HPHL-PR-10001</td>\n",
       "      <td>DC-HPHL-10001</td>\n",
       "      <td>1100.0</td>\n",
       "      <td>429.0</td>\n",
       "      <td>429.0</td>\n",
       "      <td>2019-06-01 00:30:00</td>\n",
       "      <td>...</td>\n",
       "      <td>0.0</td>\n",
       "      <td>3.0</td>\n",
       "      <td>0.0</td>\n",
       "      <td>0.0</td>\n",
       "      <td>0.0</td>\n",
       "      <td>NaN</td>\n",
       "      <td>NaN</td>\n",
       "      <td>NaN</td>\n",
       "      <td>0.0</td>\n",
       "      <td>0</td>\n",
       "    </tr>\n",
       "    <tr>\n",
       "      <th>4</th>\n",
       "      <td>11600000000000000</td>\n",
       "      <td>FLIPKART_LITE</td>\n",
       "      <td>FLIPKART_LITE</td>\n",
       "      <td>Priyaasi's Partywear Kundan Single Finger Hath...</td>\n",
       "      <td>HPHL-PR-10001</td>\n",
       "      <td>DC-HPHL-10001</td>\n",
       "      <td>1100.0</td>\n",
       "      <td>429.0</td>\n",
       "      <td>429.0</td>\n",
       "      <td>2019-06-01 00:30:00</td>\n",
       "      <td>...</td>\n",
       "      <td>0.0</td>\n",
       "      <td>3.0</td>\n",
       "      <td>0.0</td>\n",
       "      <td>0.0</td>\n",
       "      <td>0.0</td>\n",
       "      <td>NaN</td>\n",
       "      <td>NaN</td>\n",
       "      <td>NaN</td>\n",
       "      <td>0.0</td>\n",
       "      <td>0</td>\n",
       "    </tr>\n",
       "  </tbody>\n",
       "</table>\n",
       "<p>5 rows × 28 columns</p>\n",
       "</div>"
      ],
      "text/plain": [
       "     Sale Order Code           Facility    Channel Name  \\\n",
       "0      SLP2305749392  dazzlecollectionz  SNAPDEAL_PRITA   \n",
       "1  11600000000000000      FLIPKART_LITE   FLIPKART_LITE   \n",
       "2  11600000000000000      FLIPKART_LITE   FLIPKART_LITE   \n",
       "3  11600000000000000      FLIPKART_LITE   FLIPKART_LITE   \n",
       "4  11600000000000000      FLIPKART_LITE   FLIPKART_LITE   \n",
       "\n",
       "                                            SKU Name Uniware SKU Code  \\\n",
       "0                                  Pritas Raani Haar      DC-NL-10187   \n",
       "1                                  Bahubali earrings     EAR-PR-50008   \n",
       "2                                  Bahubali earrings     EAR-PR-50008   \n",
       "3  Priyaasi's Partywear Kundan Single Finger Hath...    HPHL-PR-10001   \n",
       "4  Priyaasi's Partywear Kundan Single Finger Hath...    HPHL-PR-10001   \n",
       "\n",
       "  Seller SKU Code     MRP  Total Price  Selling Price          Order Date  \\\n",
       "0     DC-NL-10187  2000.0        629.0          629.0 2019-06-01 00:01:00   \n",
       "1   DC--EAR-50169  1400.0        469.0          429.0 2019-06-01 00:30:00   \n",
       "2   DC--EAR-50169  1400.0        469.0          429.0 2019-06-01 00:30:00   \n",
       "3   DC-HPHL-10001  1100.0        429.0          429.0 2019-06-01 00:30:00   \n",
       "4   DC-HPHL-10001  1100.0        429.0          429.0 2019-06-01 00:30:00   \n",
       "\n",
       "         ...        CGST Rate IGST Rate SGST Rate  UTGST Rate  CESS Rate  \\\n",
       "0        ...              0.0       3.0       0.0         0.0        0.0   \n",
       "1        ...              0.0       3.0       0.0         0.0        0.0   \n",
       "2        ...              0.0       3.0       0.0         0.0        0.0   \n",
       "3        ...              0.0       3.0       0.0         0.0        0.0   \n",
       "4        ...              0.0       3.0       0.0         0.0        0.0   \n",
       "\n",
       "   Tax %  Tax Value  Voucher Code  Discount  Shipping Charges  \n",
       "0    NaN        NaN           NaN       0.0                 0  \n",
       "1    NaN        NaN           NaN      40.0                40  \n",
       "2    NaN        NaN           NaN      40.0                40  \n",
       "3    NaN        NaN           NaN       0.0                 0  \n",
       "4    NaN        NaN           NaN       0.0                 0  \n",
       "\n",
       "[5 rows x 28 columns]"
      ]
     },
     "execution_count": 2,
     "metadata": {},
     "output_type": "execute_result"
    }
   ],
   "source": [
    "df = pd.read_excel('Analyst Assignment .xlsx',sheet_name= 'June Sale')\n",
    "df.head()"
   ]
  },
  {
   "cell_type": "markdown",
   "metadata": {},
   "source": [
    "### The purpose of this notebook is to get a feel of the data and understand what should be the move forward"
   ]
  },
  {
   "cell_type": "code",
   "execution_count": 3,
   "metadata": {},
   "outputs": [
    {
     "data": {
      "text/plain": [
       "Sale Order Code                 SLP2305749392\n",
       "Facility                    dazzlecollectionz\n",
       "Channel Name                   SNAPDEAL_PRITA\n",
       "SKU Name                    Pritas Raani Haar\n",
       "Uniware SKU Code                  DC-NL-10187\n",
       "Seller SKU Code                   DC-NL-10187\n",
       "MRP                                      2000\n",
       "Total Price                               629\n",
       "Selling Price                             629\n",
       "Order Date                2019-06-01 00:01:00\n",
       "Sale Order Status                    COMPLETE\n",
       "Sale Order Item Status             DISPATCHED\n",
       "GST Tax Type Code                 DEFAULT_GST\n",
       "CGST                                        0\n",
       "IGST                                    18.32\n",
       "SGST                                        0\n",
       "UTGST                                       0\n",
       "CESS                                        0\n",
       "CGST Rate                                   0\n",
       "IGST Rate                                   3\n",
       "SGST Rate                                   0\n",
       "UTGST Rate                                  0\n",
       "CESS Rate                                   0\n",
       "Tax %                                     NaN\n",
       "Tax Value                                 NaN\n",
       "Voucher Code                              NaN\n",
       "Discount                                    0\n",
       "Shipping Charges                            0\n",
       "Name: 0, dtype: object"
      ]
     },
     "execution_count": 3,
     "metadata": {},
     "output_type": "execute_result"
    }
   ],
   "source": [
    "df.iloc[0]"
   ]
  },
  {
   "cell_type": "markdown",
   "metadata": {},
   "source": [
    "#### Considering our goal of calculating the inventory restock requirement , we do not require any information regarding the cost and taxes. "
   ]
  },
  {
   "cell_type": "code",
   "execution_count": 4,
   "metadata": {},
   "outputs": [],
   "source": [
    "# Only Picking out the necessary information\n",
    "df = df[['Sale Order Code','Uniware SKU Code','Order Date','Sale Order Status']]"
   ]
  },
  {
   "cell_type": "code",
   "execution_count": 5,
   "metadata": {},
   "outputs": [
    {
     "data": {
      "text/plain": [
       "{'CANCELLED', 'COMPLETE', 'PROCESSING'}"
      ]
     },
     "execution_count": 5,
     "metadata": {},
     "output_type": "execute_result"
    }
   ],
   "source": [
    "set(df['Sale Order Status'])"
   ]
  },
  {
   "cell_type": "code",
   "execution_count": 6,
   "metadata": {},
   "outputs": [
    {
     "data": {
      "text/plain": [
       "COMPLETE      17375\n",
       "CANCELLED       700\n",
       "PROCESSING        4\n",
       "Name: Sale Order Status, dtype: int64"
      ]
     },
     "execution_count": 6,
     "metadata": {},
     "output_type": "execute_result"
    }
   ],
   "source": [
    "df['Sale Order Status'].value_counts()"
   ]
  },
  {
   "cell_type": "markdown",
   "metadata": {},
   "source": [
    "#### Filtering out data for only completed and processing"
   ]
  },
  {
   "cell_type": "code",
   "execution_count": 7,
   "metadata": {},
   "outputs": [
    {
     "data": {
      "text/plain": [
       "17379"
      ]
     },
     "execution_count": 7,
     "metadata": {},
     "output_type": "execute_result"
    }
   ],
   "source": [
    "df = df[df['Sale Order Status']!='CANCELLED']\n",
    "len(df)"
   ]
  },
  {
   "cell_type": "markdown",
   "metadata": {},
   "source": [
    "# Next let us analyse whether the day of the weak i.e Mon-Sun affects the no. of orders.\n",
    "\n",
    "\n",
    "\n",
    "### This is extremely important as Jun 2019 saw 5 weekends and we should be careful while predicting the inventory requirements"
   ]
  },
  {
   "cell_type": "code",
   "execution_count": 8,
   "metadata": {},
   "outputs": [
    {
     "data": {
      "text/html": [
       "<div>\n",
       "<style scoped>\n",
       "    .dataframe tbody tr th:only-of-type {\n",
       "        vertical-align: middle;\n",
       "    }\n",
       "\n",
       "    .dataframe tbody tr th {\n",
       "        vertical-align: top;\n",
       "    }\n",
       "\n",
       "    .dataframe thead th {\n",
       "        text-align: right;\n",
       "    }\n",
       "</style>\n",
       "<table border=\"1\" class=\"dataframe\">\n",
       "  <thead>\n",
       "    <tr style=\"text-align: right;\">\n",
       "      <th></th>\n",
       "      <th>Noofdays</th>\n",
       "    </tr>\n",
       "    <tr>\n",
       "      <th>dayofweek</th>\n",
       "      <th></th>\n",
       "    </tr>\n",
       "  </thead>\n",
       "  <tbody>\n",
       "    <tr>\n",
       "      <th>0</th>\n",
       "      <td>4</td>\n",
       "    </tr>\n",
       "    <tr>\n",
       "      <th>1</th>\n",
       "      <td>4</td>\n",
       "    </tr>\n",
       "    <tr>\n",
       "      <th>2</th>\n",
       "      <td>4</td>\n",
       "    </tr>\n",
       "    <tr>\n",
       "      <th>3</th>\n",
       "      <td>4</td>\n",
       "    </tr>\n",
       "    <tr>\n",
       "      <th>4</th>\n",
       "      <td>4</td>\n",
       "    </tr>\n",
       "    <tr>\n",
       "      <th>5</th>\n",
       "      <td>5</td>\n",
       "    </tr>\n",
       "    <tr>\n",
       "      <th>6</th>\n",
       "      <td>5</td>\n",
       "    </tr>\n",
       "  </tbody>\n",
       "</table>\n",
       "</div>"
      ],
      "text/plain": [
       "           Noofdays\n",
       "dayofweek          \n",
       "0                 4\n",
       "1                 4\n",
       "2                 4\n",
       "3                 4\n",
       "4                 4\n",
       "5                 5\n",
       "6                 5"
      ]
     },
     "execution_count": 8,
     "metadata": {},
     "output_type": "execute_result"
    }
   ],
   "source": [
    "df['dayofweek'] = df['Order Date'].apply(lambda x : x.weekday())\n",
    "df['Date'] = df['Order Date'].apply(lambda x : x.date())\n",
    "df[['Date','dayofweek']].drop_duplicates().groupby('dayofweek').agg('count').rename(columns={'Date' : 'Noofdays'})"
   ]
  },
  {
   "cell_type": "markdown",
   "metadata": {},
   "source": [
    "## 0 - Sun, 6 - Sat"
   ]
  },
  {
   "cell_type": "code",
   "execution_count": 9,
   "metadata": {},
   "outputs": [
    {
     "data": {
      "text/html": [
       "<div>\n",
       "<style scoped>\n",
       "    .dataframe tbody tr th:only-of-type {\n",
       "        vertical-align: middle;\n",
       "    }\n",
       "\n",
       "    .dataframe tbody tr th {\n",
       "        vertical-align: top;\n",
       "    }\n",
       "\n",
       "    .dataframe thead th {\n",
       "        text-align: right;\n",
       "    }\n",
       "</style>\n",
       "<table border=\"1\" class=\"dataframe\">\n",
       "  <thead>\n",
       "    <tr style=\"text-align: right;\">\n",
       "      <th></th>\n",
       "      <th></th>\n",
       "      <th>Sale Order Status</th>\n",
       "    </tr>\n",
       "    <tr>\n",
       "      <th>dayofweek</th>\n",
       "      <th>Date</th>\n",
       "      <th></th>\n",
       "    </tr>\n",
       "  </thead>\n",
       "  <tbody>\n",
       "    <tr>\n",
       "      <th rowspan=\"4\" valign=\"top\">0</th>\n",
       "      <th>2019-06-03</th>\n",
       "      <td>243</td>\n",
       "    </tr>\n",
       "    <tr>\n",
       "      <th>2019-06-10</th>\n",
       "      <td>184</td>\n",
       "    </tr>\n",
       "    <tr>\n",
       "      <th>2019-06-17</th>\n",
       "      <td>257</td>\n",
       "    </tr>\n",
       "    <tr>\n",
       "      <th>2019-06-24</th>\n",
       "      <td>1101</td>\n",
       "    </tr>\n",
       "    <tr>\n",
       "      <th rowspan=\"4\" valign=\"top\">1</th>\n",
       "      <th>2019-06-04</th>\n",
       "      <td>226</td>\n",
       "    </tr>\n",
       "    <tr>\n",
       "      <th>2019-06-11</th>\n",
       "      <td>256</td>\n",
       "    </tr>\n",
       "    <tr>\n",
       "      <th>2019-06-18</th>\n",
       "      <td>182</td>\n",
       "    </tr>\n",
       "    <tr>\n",
       "      <th>2019-06-25</th>\n",
       "      <td>1779</td>\n",
       "    </tr>\n",
       "    <tr>\n",
       "      <th rowspan=\"4\" valign=\"top\">2</th>\n",
       "      <th>2019-06-05</th>\n",
       "      <td>176</td>\n",
       "    </tr>\n",
       "    <tr>\n",
       "      <th>2019-06-12</th>\n",
       "      <td>225</td>\n",
       "    </tr>\n",
       "    <tr>\n",
       "      <th>2019-06-19</th>\n",
       "      <td>421</td>\n",
       "    </tr>\n",
       "    <tr>\n",
       "      <th>2019-06-26</th>\n",
       "      <td>331</td>\n",
       "    </tr>\n",
       "    <tr>\n",
       "      <th rowspan=\"4\" valign=\"top\">3</th>\n",
       "      <th>2019-06-06</th>\n",
       "      <td>217</td>\n",
       "    </tr>\n",
       "    <tr>\n",
       "      <th>2019-06-13</th>\n",
       "      <td>1492</td>\n",
       "    </tr>\n",
       "    <tr>\n",
       "      <th>2019-06-20</th>\n",
       "      <td>450</td>\n",
       "    </tr>\n",
       "    <tr>\n",
       "      <th>2019-06-27</th>\n",
       "      <td>325</td>\n",
       "    </tr>\n",
       "    <tr>\n",
       "      <th rowspan=\"4\" valign=\"top\">4</th>\n",
       "      <th>2019-06-07</th>\n",
       "      <td>151</td>\n",
       "    </tr>\n",
       "    <tr>\n",
       "      <th>2019-06-14</th>\n",
       "      <td>250</td>\n",
       "    </tr>\n",
       "    <tr>\n",
       "      <th>2019-06-21</th>\n",
       "      <td>4118</td>\n",
       "    </tr>\n",
       "    <tr>\n",
       "      <th>2019-06-28</th>\n",
       "      <td>357</td>\n",
       "    </tr>\n",
       "    <tr>\n",
       "      <th rowspan=\"5\" valign=\"top\">5</th>\n",
       "      <th>2019-06-01</th>\n",
       "      <td>196</td>\n",
       "    </tr>\n",
       "    <tr>\n",
       "      <th>2019-06-08</th>\n",
       "      <td>258</td>\n",
       "    </tr>\n",
       "    <tr>\n",
       "      <th>2019-06-15</th>\n",
       "      <td>179</td>\n",
       "    </tr>\n",
       "    <tr>\n",
       "      <th>2019-06-22</th>\n",
       "      <td>1679</td>\n",
       "    </tr>\n",
       "    <tr>\n",
       "      <th>2019-06-29</th>\n",
       "      <td>337</td>\n",
       "    </tr>\n",
       "    <tr>\n",
       "      <th rowspan=\"5\" valign=\"top\">6</th>\n",
       "      <th>2019-06-02</th>\n",
       "      <td>280</td>\n",
       "    </tr>\n",
       "    <tr>\n",
       "      <th>2019-06-09</th>\n",
       "      <td>180</td>\n",
       "    </tr>\n",
       "    <tr>\n",
       "      <th>2019-06-16</th>\n",
       "      <td>242</td>\n",
       "    </tr>\n",
       "    <tr>\n",
       "      <th>2019-06-23</th>\n",
       "      <td>972</td>\n",
       "    </tr>\n",
       "    <tr>\n",
       "      <th>2019-06-30</th>\n",
       "      <td>315</td>\n",
       "    </tr>\n",
       "  </tbody>\n",
       "</table>\n",
       "</div>"
      ],
      "text/plain": [
       "                      Sale Order Status\n",
       "dayofweek Date                         \n",
       "0         2019-06-03                243\n",
       "          2019-06-10                184\n",
       "          2019-06-17                257\n",
       "          2019-06-24               1101\n",
       "1         2019-06-04                226\n",
       "          2019-06-11                256\n",
       "          2019-06-18                182\n",
       "          2019-06-25               1779\n",
       "2         2019-06-05                176\n",
       "          2019-06-12                225\n",
       "          2019-06-19                421\n",
       "          2019-06-26                331\n",
       "3         2019-06-06                217\n",
       "          2019-06-13               1492\n",
       "          2019-06-20                450\n",
       "          2019-06-27                325\n",
       "4         2019-06-07                151\n",
       "          2019-06-14                250\n",
       "          2019-06-21               4118\n",
       "          2019-06-28                357\n",
       "5         2019-06-01                196\n",
       "          2019-06-08                258\n",
       "          2019-06-15                179\n",
       "          2019-06-22               1679\n",
       "          2019-06-29                337\n",
       "6         2019-06-02                280\n",
       "          2019-06-09                180\n",
       "          2019-06-16                242\n",
       "          2019-06-23                972\n",
       "          2019-06-30                315"
      ]
     },
     "execution_count": 9,
     "metadata": {},
     "output_type": "execute_result"
    }
   ],
   "source": [
    "df[['Date','dayofweek','Sale Order Status']].groupby(['dayofweek','Date']).agg('count')"
   ]
  },
  {
   "cell_type": "code",
   "execution_count": 10,
   "metadata": {},
   "outputs": [
    {
     "data": {
      "text/plain": [
       "<matplotlib.axes._subplots.AxesSubplot at 0x27f2db54400>"
      ]
     },
     "execution_count": 10,
     "metadata": {},
     "output_type": "execute_result"
    }
   ],
   "source": [
    "a = df[['Date','Sale Order Status']].groupby(['Date']).agg('count')\n",
    "a.plot()"
   ]
  },
  {
   "cell_type": "markdown",
   "metadata": {},
   "source": [
    "## FROM THE ABOVE : We can infer that there has been an abnormal spike in the no. of orders between 21-23 June\n",
    "\n",
    "## Spike of this nature can generally be attributed to Advertisements, marketing campaigns, heavy discount offers etc."
   ]
  },
  {
   "cell_type": "code",
   "execution_count": 11,
   "metadata": {},
   "outputs": [],
   "source": [
    "d = pd.merge(df[['dayofweek','Date']].groupby('dayofweek').agg('count'),df[['Date','dayofweek']].drop_duplicates().groupby('dayofweek').agg('count'),on='dayofweek')"
   ]
  },
  {
   "cell_type": "code",
   "execution_count": 12,
   "metadata": {},
   "outputs": [],
   "source": [
    "d = d.rename(columns = {'Date_x' : 'Count of Orders', 'Date_y' : 'No of days'})"
   ]
  },
  {
   "cell_type": "code",
   "execution_count": 13,
   "metadata": {},
   "outputs": [],
   "source": [
    "d['avg'] = d['Count of Orders']/d['No of days']"
   ]
  },
  {
   "cell_type": "code",
   "execution_count": 14,
   "metadata": {},
   "outputs": [
    {
     "data": {
      "text/html": [
       "<div>\n",
       "<style scoped>\n",
       "    .dataframe tbody tr th:only-of-type {\n",
       "        vertical-align: middle;\n",
       "    }\n",
       "\n",
       "    .dataframe tbody tr th {\n",
       "        vertical-align: top;\n",
       "    }\n",
       "\n",
       "    .dataframe thead th {\n",
       "        text-align: right;\n",
       "    }\n",
       "</style>\n",
       "<table border=\"1\" class=\"dataframe\">\n",
       "  <thead>\n",
       "    <tr style=\"text-align: right;\">\n",
       "      <th></th>\n",
       "      <th>Count of Orders</th>\n",
       "      <th>No of days</th>\n",
       "      <th>avg</th>\n",
       "    </tr>\n",
       "    <tr>\n",
       "      <th>dayofweek</th>\n",
       "      <th></th>\n",
       "      <th></th>\n",
       "      <th></th>\n",
       "    </tr>\n",
       "  </thead>\n",
       "  <tbody>\n",
       "    <tr>\n",
       "      <th>0</th>\n",
       "      <td>1785</td>\n",
       "      <td>4</td>\n",
       "      <td>446.25</td>\n",
       "    </tr>\n",
       "    <tr>\n",
       "      <th>1</th>\n",
       "      <td>2443</td>\n",
       "      <td>4</td>\n",
       "      <td>610.75</td>\n",
       "    </tr>\n",
       "    <tr>\n",
       "      <th>2</th>\n",
       "      <td>1153</td>\n",
       "      <td>4</td>\n",
       "      <td>288.25</td>\n",
       "    </tr>\n",
       "    <tr>\n",
       "      <th>3</th>\n",
       "      <td>2484</td>\n",
       "      <td>4</td>\n",
       "      <td>621.00</td>\n",
       "    </tr>\n",
       "    <tr>\n",
       "      <th>4</th>\n",
       "      <td>4876</td>\n",
       "      <td>4</td>\n",
       "      <td>1219.00</td>\n",
       "    </tr>\n",
       "    <tr>\n",
       "      <th>5</th>\n",
       "      <td>2649</td>\n",
       "      <td>5</td>\n",
       "      <td>529.80</td>\n",
       "    </tr>\n",
       "    <tr>\n",
       "      <th>6</th>\n",
       "      <td>1989</td>\n",
       "      <td>5</td>\n",
       "      <td>397.80</td>\n",
       "    </tr>\n",
       "  </tbody>\n",
       "</table>\n",
       "</div>"
      ],
      "text/plain": [
       "           Count of Orders  No of days      avg\n",
       "dayofweek                                      \n",
       "0                     1785           4   446.25\n",
       "1                     2443           4   610.75\n",
       "2                     1153           4   288.25\n",
       "3                     2484           4   621.00\n",
       "4                     4876           4  1219.00\n",
       "5                     2649           5   529.80\n",
       "6                     1989           5   397.80"
      ]
     },
     "execution_count": 14,
     "metadata": {},
     "output_type": "execute_result"
    }
   ],
   "source": [
    "d"
   ]
  },
  {
   "cell_type": "markdown",
   "metadata": {},
   "source": [
    "### While the above Data suggests an average to below average response on the weekend. The difference can largely be attributed to the sudden spike observed above between 21-23 june. Hence, the attempt to understand the effect of the day of the week on the number of orders is inconclusive"
   ]
  },
  {
   "cell_type": "markdown",
   "metadata": {},
   "source": [
    "## As we can't really pin-point and accomodate for the reason for heavy increase in number of orders on these dates, we shall go forward considering exponential smoothening of our values to carry out our inventory requirement predictions."
   ]
  }
 ],
 "metadata": {
  "kernelspec": {
   "display_name": "Python 3",
   "language": "python",
   "name": "python3"
  },
  "language_info": {
   "codemirror_mode": {
    "name": "ipython",
    "version": 3
   },
   "file_extension": ".py",
   "mimetype": "text/x-python",
   "name": "python",
   "nbconvert_exporter": "python",
   "pygments_lexer": "ipython3",
   "version": "3.6.5"
  }
 },
 "nbformat": 4,
 "nbformat_minor": 2
}
